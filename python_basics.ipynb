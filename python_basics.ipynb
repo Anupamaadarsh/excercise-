{
 "cells": [
  {
   "cell_type": "code",
   "execution_count": 1,
   "id": "87b000eb",
   "metadata": {},
   "outputs": [
    {
     "name": "stdout",
     "output_type": "stream",
     "text": [
      " enter the temperature : 37\n",
      "Temperature in farenheit is 98.60000000000001 \n"
     ]
    }
   ],
   "source": [
    "temper= float(input(\" enter the temperature : \"))\n",
    "tem_f=(temper*1.8)+32\n",
    "print(\"Temperature in farenheit is {} \".format(tem_f))"
   ]
  },
  {
   "cell_type": "code",
   "execution_count": 2,
   "id": "6a25e54b",
   "metadata": {},
   "outputs": [
    {
     "name": "stdout",
     "output_type": "stream",
     "text": [
      "enter the base : 6\n",
      "enter the height : 8\n",
      "area of the triangle is  24.0\n"
     ]
    }
   ],
   "source": [
    "b=int(input(\"enter the base : \"))\n",
    "h=int(input('enter the height : '))\n",
    "area=b*h*0.5\n",
    "print('area of the triangle is ',area)"
   ]
  },
  {
   "cell_type": "code",
   "execution_count": 3,
   "id": "a204144f",
   "metadata": {},
   "outputs": [
    {
     "name": "stdout",
     "output_type": "stream",
     "text": [
      "enter the name of student: Anisha\n",
      "enter the roll number of the student: 21\n",
      "enter the mark: 78\n",
      "Name : Anisha \n",
      " Roll No : 21 \n",
      " Mark: 78\n"
     ]
    }
   ],
   "source": [
    "'''Write a Python Program to accept the details of a student like name, roll number and\n",
    "mark and display it.\n",
    "Sample input: Enter the name: Anisha\n",
    "Enter the roll number: 21\n",
    "Enter the mark: 78\n",
    "Sample output:\n",
    "Name: Anisha\n",
    "Roll No: 21\n",
    "Mark: 78'''\n",
    "name=input('enter the name of student: ')\n",
    "r_n=input('enter the roll number of the student: ')\n",
    "mark=int(input('enter the mark: '))\n",
    "print('Name :',name,'\\n','Roll No :', r_n,'\\n','Mark:',mark)"
   ]
  },
  {
   "cell_type": "code",
   "execution_count": 4,
   "id": "81222559",
   "metadata": {},
   "outputs": [
    {
     "name": "stdout",
     "output_type": "stream",
     "text": [
      "largest number in the [12, 3, 47, 10] is : 47\n"
     ]
    }
   ],
   "source": [
    "'''Write a Python program to get the largest number from a list.\n",
    "Sample input: 12, 3, 47, 10\n",
    "Sample output: 47 is the largest number.'''\n",
    "list1=[12,3,47,10]\n",
    "print('largest number in the {} is : {}'.format(list1,max(list1)))"
   ]
  },
  {
   "cell_type": "code",
   "execution_count": 5,
   "id": "e613782b",
   "metadata": {},
   "outputs": [
    {
     "name": "stdout",
     "output_type": "stream",
     "text": [
      "average of the given numbers is :  3.0\n"
     ]
    }
   ],
   "source": [
    "'''Write a python program to find the average of 5 numbers'''\n",
    "a,b,c,d,e=1,2,3,4,5\n",
    "averg=(a+b+c+d+e)/5\n",
    "print('average of the given numbers is : ',averg)"
   ]
  },
  {
   "cell_type": "code",
   "execution_count": 6,
   "id": "13ed433c",
   "metadata": {},
   "outputs": [
    {
     "data": {
      "text/plain": [
       "[1, 2, 8, 3, 4, 5]"
      ]
     },
     "execution_count": 6,
     "metadata": {},
     "output_type": "execute_result"
    }
   ],
   "source": [
    "list3=[1,2,3,4,5]\n",
    "list3.insert(2, 8)\n",
    "list3"
   ]
  },
  {
   "cell_type": "code",
   "execution_count": 7,
   "id": "4a8730bc",
   "metadata": {},
   "outputs": [
    {
     "data": {
      "text/plain": [
       "{'name': 'Kelly', 'age': 25, 'salary': 8000, 'location': 'New york'}"
      ]
     },
     "execution_count": 7,
     "metadata": {},
     "output_type": "execute_result"
    }
   ],
   "source": [
    "'''Write a program to rename a key city to a location in the following dictionary.\n",
    "sample_dict = { \"name\": \"Kelly\", \"age\":25, \"salary\": 8000, \"city\": \"New york\"}'''\n",
    "data = { \"name\": \"Kelly\", \"age\":25, \"salary\": 8000, \"city\": \"New york\"}\n",
    "data['location']=data.pop('city')\n",
    "data"
   ]
  },
  {
   "cell_type": "code",
   "execution_count": 8,
   "id": "76af78e9",
   "metadata": {},
   "outputs": [
    {
     "data": {
      "text/plain": [
       "{'emp1': {'name': 'Jhon', 'salary': 7500},\n",
       " 'emp2': {'name': 'Emma', 'salary': 8000},\n",
       " 'emp3': {'name': 'Brad', 'salary': 8500}}"
      ]
     },
     "execution_count": 8,
     "metadata": {},
     "output_type": "execute_result"
    }
   ],
   "source": [
    "'Write a Python program to change Brad’s salary to 8500 in the following dictionary.'\n",
    "df = {\n",
    "'emp1': {'name': 'Jhon', 'salary': 7500},\n",
    "'emp2': {'name': 'Emma', 'salary': 8000},\n",
    "'emp3': {'name': 'Brad', 'salary': 500}}\n",
    "df['emp3']['salary']=8500\n",
    "df"
   ]
  },
  {
   "cell_type": "code",
   "execution_count": 9,
   "id": "d47d2b6e",
   "metadata": {},
   "outputs": [
    {
     "data": {
      "text/plain": [
       "(44, 55)"
      ]
     },
     "execution_count": 9,
     "metadata": {},
     "output_type": "execute_result"
    }
   ],
   "source": [
    "'''Write a program to copy elements 44 and 55 from the following tuple into a new tuple. \n",
    "Given: tuple1 = (11, 22, 33, 44, 55, 66)\n",
    "'''\n",
    "t1=(11, 22, 33, 44, 55, 66)\n",
    "t2=t1[3:5]\n",
    "t2"
   ]
  },
  {
   "cell_type": "code",
   "execution_count": 10,
   "id": "13dff6da",
   "metadata": {},
   "outputs": [
    {
     "data": {
      "text/plain": [
       "3"
      ]
     },
     "execution_count": 10,
     "metadata": {},
     "output_type": "execute_result"
    }
   ],
   "source": [
    "''' Counts the number of occurrences of item 50 from a tuple tuple1 = (50, 10, 60, 70, 50,83,567,50,81)'''\n",
    "tuple1 = (50, 10, 60, 70, 50,83,567,50,81)\n",
    "freq=tuple1.count(50)\n",
    "freq"
   ]
  },
  {
   "cell_type": "code",
   "execution_count": null,
   "id": "b74fefe2",
   "metadata": {},
   "outputs": [],
   "source": []
  }
 ],
 "metadata": {
  "kernelspec": {
   "display_name": "Python 3 (ipykernel)",
   "language": "python",
   "name": "python3"
  },
  "language_info": {
   "codemirror_mode": {
    "name": "ipython",
    "version": 3
   },
   "file_extension": ".py",
   "mimetype": "text/x-python",
   "name": "python",
   "nbconvert_exporter": "python",
   "pygments_lexer": "ipython3",
   "version": "3.9.12"
  }
 },
 "nbformat": 4,
 "nbformat_minor": 5
}
